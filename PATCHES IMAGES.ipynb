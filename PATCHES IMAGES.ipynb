{
 "cells": [
  {
   "cell_type": "code",
   "execution_count": 8,
   "id": "b88f3023",
   "metadata": {
    "scrolled": true
   },
   "outputs": [],
   "source": [
    "import cv2\n",
    "import numpy as np\n",
    "import os\n",
    "import matplotlib.pyplot as plt\n",
    "import tensorflow as tf\n",
    "from tensorflow.keras.models import load_model\n",
    "\n",
    "generator = None \n",
    "\n",
    "del generator\n",
    "\n",
    "generator = load_model('/home/wytcor/Desktop/STAGE/SRGAN/split_and_joint_images/patches/models_SRGAN_factor_8/gen_e_45.h5', compile=False)"
   ]
  },
  {
   "cell_type": "markdown",
   "id": "423b4995",
   "metadata": {},
   "source": [
    "Preprocess all the images --> 1 image 1024x1024 to 4 images 512x512"
   ]
  },
  {
   "cell_type": "code",
   "execution_count": 4,
   "id": "0106c45a",
   "metadata": {
    "scrolled": true
   },
   "outputs": [
    {
     "ename": "FileNotFoundError",
     "evalue": "[Errno 2] No such file or directory: '/users/fogosdarocha/STAGE/YOLOv5_Custom_Training/datasets/DOTAV15/valsplit/images/'",
     "output_type": "error",
     "traceback": [
      "\u001b[0;31m---------------------------------------------------------------------------\u001b[0m",
      "\u001b[0;31mFileNotFoundError\u001b[0m                         Traceback (most recent call last)",
      "Input \u001b[0;32mIn [4]\u001b[0m, in \u001b[0;36m<cell line: 22>\u001b[0;34m()\u001b[0m\n\u001b[1;32m     22\u001b[0m \u001b[38;5;28;01mfor\u001b[39;00m r \u001b[38;5;129;01min\u001b[39;00m folder_list:        \n\u001b[1;32m     23\u001b[0m     \u001b[38;5;66;03m#path_dir=\"/home/wytcor/Desktop/STAGE/YOLOv5_Custom_Training/datasets/VisDrone2019-DET/original_datasets/{}/images/\".format(r)\u001b[39;00m\n\u001b[1;32m     24\u001b[0m     \u001b[38;5;66;03m#path_dir=\"/home/wytcor/Desktop/STAGE/YOLOv5_Custom_Training/datasets/DOTAV15/{}split/images/\".format(r)\u001b[39;00m\n\u001b[1;32m     25\u001b[0m     path_dir\u001b[38;5;241m=\u001b[39m\u001b[38;5;124m\"\u001b[39m\u001b[38;5;124m/users/fogosdarocha/STAGE/YOLOv5_Custom_Training/datasets/DOTAV15/\u001b[39m\u001b[38;5;132;01m{}\u001b[39;00m\u001b[38;5;124msplit/images/\u001b[39m\u001b[38;5;124m\"\u001b[39m\u001b[38;5;241m.\u001b[39mformat(r)\n\u001b[0;32m---> 26\u001b[0m     \u001b[38;5;28;01mfor\u001b[39;00m img_name \u001b[38;5;129;01min\u001b[39;00m \u001b[43mos\u001b[49m\u001b[38;5;241;43m.\u001b[39;49m\u001b[43mlistdir\u001b[49m\u001b[43m(\u001b[49m\u001b[43mpath_dir\u001b[49m\u001b[43m)\u001b[49m:\n\u001b[1;32m     27\u001b[0m         \u001b[38;5;28mprint\u001b[39m(path_dir\u001b[38;5;241m+\u001b[39mimg_name)\n\u001b[1;32m     28\u001b[0m         \u001b[38;5;28mprint\u001b[39m(img_name)\n",
      "\u001b[0;31mFileNotFoundError\u001b[0m: [Errno 2] No such file or directory: '/users/fogosdarocha/STAGE/YOLOv5_Custom_Training/datasets/DOTAV15/valsplit/images/'"
     ]
    }
   ],
   "source": [
    "from patchify import patchify\n",
    "import cv2\n",
    "import numpy as np\n",
    "from patchify import patchify, unpatchify\n",
    "import os\n",
    "from numpy import save,load\n",
    "\n",
    "lr_images=[]\n",
    "hr_images=[]\n",
    "\n",
    "k=0\n",
    "#n=250\n",
    "scale_factor=8\n",
    "lr_size=int((1024/2)/scale_factor)\n",
    "\n",
    "folder_list=[\"val\"]\n",
    "#folder_list=[\"VisDrone2019-DET-train\",\"VisDrone2019-DET-val\",\"VisDrone2019-DET-test-dev\"]3\n",
    "#folder_list=[\"VisDrone2019-DET-train\"]\n",
    "#folder_list=[\"VisDrone2019-DET-val\"]\n",
    "#folder_list=[\"VisDrone2019-DET-test-dev\"]\n",
    "\n",
    "for r in folder_list:        \n",
    "    #path_dir=\"/home/wytcor/Desktop/STAGE/YOLOv5_Custom_Training/datasets/VisDrone2019-DET/original_datasets/{}/images/\".format(r)\n",
    "    #path_dir=\"/home/wytcor/Desktop/STAGE/YOLOv5_Custom_Training/datasets/DOTAV15/{}split/images/\".format(r)\n",
    "    path_dir=\"/users/fogosdarocha/STAGE/YOLOv5_Custom_Training/datasets/DOTAV15/{}split/images/\".format(r)\n",
    "    for img_name in os.listdir(path_dir):\n",
    "        print(path_dir+img_name)\n",
    "        print(img_name)\n",
    "        image = cv2.imread(path_dir+img_name) #cv2.imread(path_dir+img_name)\n",
    "        image = cv2.cvtColor(image, cv2.COLOR_BGR2RGB)\n",
    "\n",
    "        img_array = cv2.resize(image, (1024,1024))\n",
    "        img_array = cv2.cvtColor(img_array, cv2.COLOR_BGR2RGB)\n",
    "        \n",
    "        patches_img = patchify(img_array, (512,512,3), step=512)  # patches_img.shape = (14, 18, 1, 224, 224, 3)\n",
    "\n",
    "        #lr_img_array_conv = cv2.resize(img_array, (lr_size,lr_size))/255.\n",
    "        #patches_img_lr = patchify(img_array, (128,128,3), step=128)\n",
    "        \n",
    "        img_name=img_name.split('.')\n",
    "        print(img_name[0])\n",
    "\n",
    "        for i in range(patches_img.shape[0]):\n",
    "            for j in range(patches_img.shape[1]):\n",
    "                single_patch_img = patches_img[i, j, 0, :, :, :]\n",
    "                \n",
    "                single_patch_img_lr = cv2.resize(single_patch_img, (lr_size,lr_size))\n",
    "                \n",
    "                #hr_images.append(single_patch_img/255.)\n",
    "                #lr_images.append(single_patch_img_lr/255.)\n",
    "                \n",
    "                #single_patch_img_lr = np.expand_dims(single_patch_img_lr, axis=0)\n",
    "                \n",
    "                #single_patch_img_lr = patches_img_lr[i, j, 0, :, :, :]\n",
    "                \n",
    "                #with tf.device('/device:GPU:0'):\n",
    "                #    gen_image_con = np.array(generator.predict(single_patch_img_lr))\n",
    "                #    gen_image_con=gen_image_con[0]\n",
    "                \n",
    "                #single_patch_img=gen_image_con\n",
    "                #single_patch_img_lr =single_patch_img_lr[0]\n",
    "                #cv2.rectangle(single_patch_img, (30, 30), (256-30, 256-30), (0, 255, 0), 3)  # Draw something (for testing).                \n",
    "                if not ((cv2.imwrite('./split_and_joint_images/patches/IMAGE_SIZE_512/{}split/images/{}'.format(r,img_name[0]) + '_'+ str(i).zfill(2) + '_' + str(j).zfill(2) + '.png', single_patch_img))): #and (cv2.imwrite('patches/SCALE_FACTOR_{}/{}split/images/{}'.format(scale_factor,r,img_name[0]) + '_'+ str(i).zfill(2) + '_' + str(j).zfill(2) + '.png', single_patch_img_lr)) ):  # Save as PNG, not JPEG for keeping the quality.\n",
    "                #with tf.device('/device:GPU:0'):\n",
    "                    ##if not ((cv2.imwrite('/home/wytcor/Desktop/STAGE/YOLOv5_Custom_Training/datasets/VisDrone2019-DET/SCALE FACTOR {}/{}/images/{}'.format(scale_factor,r,img_name[0]) + '_'+ str(i).zfill(2) + '_' + str(j).zfill(2) + '.png', single_patch_img))): #and (cv2.imwrite('patches/SCALE_FACTOR_{}/{}split/images/{}'.format(scale_factor,r,img_name[0]) + '_'+ str(i).zfill(2) + '_' + str(j).zfill(2) + '.png', single_patch_img_lr)) ):  # Save as PNG, not JPEG for keeping the quality.\n",
    "                    #if not ((cv2.imwrite('/home/wytcor/Desktop/STAGE/SRGAN/split_and_joint_images/patches/IMAGE_SIZE_512/{}split/images/{}'.format(r,img_name[0]) + '_'+ str(i).zfill(2) + '_' + str(j).zfill(2) + '.png', single_patch_img))): #and (cv2.imwrite('patches/SCALE_FACTOR_{}/{}split/images/{}'.format(scale_factor,r,img_name[0]) + '_'+ str(i).zfill(2) + '_' + str(j).zfill(2) + '.png', single_patch_img_lr)) ):  # Save as PNG, not JPEG for keeping the quality.\n",
    "                    raise Exception(\"Could not write the image\") \n",
    "        del single_patch_img_lr #single_patch_img_lr\n",
    "        del patches_img\n",
    "        del image\n",
    "        del img_array\n",
    "        print(k)\n",
    "        #if k==n:\n",
    "        #    break\n",
    "        #else:\n",
    "        #    pass\n",
    "       \n",
    "        k=k+1\n",
    "        # Store an unpatchified reference for testing\n",
    "        #cv2.imwrite(\"unpatched_ref.jpg\", unpatchify(patches_img, img.shape))\n",
    "\n",
    "# Unpatchify\n",
    "################################################################################\n",
    "\n"
   ]
  },
  {
   "cell_type": "code",
   "execution_count": 12,
   "id": "35a7132c",
   "metadata": {},
   "outputs": [],
   "source": [
    "from patchify import patchify\n",
    "import cv2\n",
    "import numpy as np\n",
    "from patchify import patchify, unpatchify\n",
    "import os\n",
    "from numpy import save,load\n",
    "\n",
    "#lr_images=[]\n",
    "#hr_images=[]\n",
    "\n",
    "#lr_images=load('data_lr_image_array_128_x_128.npy')\n",
    "#hr_images=load('data_hr_image_array_512_x_512.npy')\n"
   ]
  },
  {
   "cell_type": "code",
   "execution_count": 3,
   "id": "dd0d62d3",
   "metadata": {},
   "outputs": [],
   "source": [
    "#save('/home/wytcor/Desktop/STAGE/SRGAN/data_lr_image_array_{}_x_{}_scale_factor_{}.npy'.format(lr_size,lr_size,scale_factor), lr_images)\n",
    "#print(\"Saved!\")\n",
    "#del lr_images\n",
    "#save('/home/wytcor/Desktop/STAGE/SRGAN/data_lr_image_array_512_x_512_scale_factor_{}.npy'.format(scale_factor), hr_images)\n",
    "#print(\"Saved!\")\n",
    "#del hr_images\n"
   ]
  },
  {
   "cell_type": "code",
   "execution_count": 4,
   "id": "33efbc66",
   "metadata": {},
   "outputs": [],
   "source": [
    "#np.array(hr_images).shape"
   ]
  },
  {
   "cell_type": "code",
   "execution_count": 13,
   "id": "8f032bbd",
   "metadata": {},
   "outputs": [],
   "source": [
    "scale_factor=8\n",
    "lr_size=int((1024/2)/scale_factor)"
   ]
  },
  {
   "cell_type": "code",
   "execution_count": 5,
   "id": "de896787",
   "metadata": {},
   "outputs": [],
   "source": [
    "\n",
    "#del hr_images\n",
    "#del lr_images"
   ]
  },
  {
   "cell_type": "markdown",
   "id": "bb2083f9",
   "metadata": {},
   "source": [
    "Generate newest images using a SRGAN model"
   ]
  },
  {
   "cell_type": "code",
   "execution_count": 14,
   "id": "d83f39a6",
   "metadata": {},
   "outputs": [],
   "source": [
    "import cv2\n",
    "import numpy as np\n",
    "import os\n",
    "import matplotlib.pyplot as plt\n",
    "import tensorflow as tf\n",
    "from tensorflow.keras.models import load_model\n",
    "\n",
    "#generator = None \n",
    "\n",
    "#del generator\n",
    "\n",
    "#generator = load_model('/home/wytcor/Desktop/STAGE/SRGAN/split_and_joint_images/patches/models_SRGAN_factor_{}/gen_e_100.h5'.format(scale_factor), compile=False)"
   ]
  },
  {
   "cell_type": "code",
   "execution_count": 17,
   "id": "d7e4260d",
   "metadata": {
    "scrolled": true
   },
   "outputs": [],
   "source": [
    "import os\n",
    "import matplotlib.pyplot as plt\n",
    "import tensorflow as tf\n",
    "\n",
    "#folder_list=[\"train\",\"val\"]\n",
    "folder_list=[\"VisDrone2019-DET-test-dev\"]\n",
    "#folder_list=[\"VisDrone2019-DET-val\"]\n",
    "#folder_list=[\"VisDrone2019-DET-test-dev\"]#,\"VisDrone2019-DET-val\",\"VisDrone2019-DET-test-dev\"]\n",
    "\n",
    "for r in folder_list:        \n",
    "    #path_dir='patches/IMAGE_SIZE_512/{}split/images/'.format(r)\n",
    "    path_dir='/home/wytcor/Desktop/STAGE/YOLOv5_Custom_Training/datasets/VisDrone2019-DET/SCALE FACTOR {}/{}/images/'.format(scale_factor,r)\n",
    "    #path_dir=\"/users/fogosdarocha/STAGE/YOLOv5_Custom_Training/datasets/DOTAV15/{}split/images/\".format(i)\n",
    "    for img_name in os.listdir(path_dir):\n",
    "        print(img_name)\n",
    "        image = cv2.imread(path_dir+img_name)\n",
    "        \n",
    "        img_array = cv2.resize(image, (lr_size,lr_size))\n",
    "        #print(img_array.shape)\n",
    "        img_array = np.array(cv2.cvtColor(img_array, cv2.COLOR_BGR2RGB))/255.\n",
    "        #plt.imshow(img_array)\n",
    "        #plt.show()\n",
    "        \n",
    "        img_array = np.expand_dims(img_array, axis=0)\n",
    "        with tf.device('/device:GPU:0'):\n",
    "            gen_image_con = np.array(generator.predict(img_array))\n",
    "            gen_image_con=gen_image_con[0]\n",
    "        \n",
    "        #print(gen_image_con)\n",
    "        #plt.imshow(gen_image_con)\n",
    "        #plt.show()\n",
    "\n",
    "        gen_image_con = abs(np.array(cv2.cvtColor(gen_image_con, cv2.COLOR_BGR2RGB)))*255.\n",
    "\n",
    "        #cv2.imwrite('patches/SCALE_FACTOR_2/{}split/generated_images/{}'.format(r,img_name), gen_image_con)\n",
    "        cv2.imwrite('/home/wytcor/Desktop/STAGE/YOLOv5_Custom_Training/datasets/VisDrone2019-DET/SCALE FACTOR {}/{}/generated_images/{}'.format(scale_factor,r,img_name), gen_image_con)\n",
    "        \n",
    "        del image\n",
    "        del img_array\n",
    "        del gen_image_con"
   ]
  },
  {
   "cell_type": "markdown",
   "id": "ce5392cd",
   "metadata": {},
   "source": [
    "Reconstruct generated image with 4 generated sub-images"
   ]
  },
  {
   "cell_type": "code",
   "execution_count": 18,
   "id": "f2f08e36",
   "metadata": {
    "scrolled": true
   },
   "outputs": [
    {
     "name": "stderr",
     "output_type": "stream",
     "text": [
      "[ WARN:0@8555.707] global /io/opencv/modules/imgcodecs/src/loadsave.cpp (239) findDecoder imread_('/home/wytcor/Desktop/STAGE/YOLOv5_Custom_Training/datasets/VisDrone2019-DET/SCALE FACTOR 8/VisDrone2019-DET-test-dev/generated_images/9999938_00000_d_0000378_00_00.png'): can't open/read file: check file path/integrity\n"
     ]
    },
    {
     "ename": "Exception",
     "evalue": "Could not read the image",
     "output_type": "error",
     "traceback": [
      "\u001b[0;31m---------------------------------------------------------------------------\u001b[0m",
      "\u001b[0;31mException\u001b[0m                                 Traceback (most recent call last)",
      "Input \u001b[0;32mIn [18]\u001b[0m, in \u001b[0;36m<cell line: 17>\u001b[0;34m()\u001b[0m\n\u001b[1;32m     38\u001b[0m         \u001b[38;5;66;03m#print(single_patch_img)\u001b[39;00m\n\u001b[1;32m     39\u001b[0m         \u001b[38;5;28;01mif\u001b[39;00m single_patch_img \u001b[38;5;129;01mis\u001b[39;00m \u001b[38;5;28;01mNone\u001b[39;00m:\n\u001b[0;32m---> 40\u001b[0m             \u001b[38;5;28;01mraise\u001b[39;00m \u001b[38;5;167;01mException\u001b[39;00m(\u001b[38;5;124m\"\u001b[39m\u001b[38;5;124mCould not read the image\u001b[39m\u001b[38;5;124m\"\u001b[39m) \n\u001b[1;32m     41\u001b[0m         patches[i, j, \u001b[38;5;241m0\u001b[39m, :, :, :] \u001b[38;5;241m=\u001b[39m single_patch_img\u001b[38;5;241m.\u001b[39mcopy()  \u001b[38;5;66;03m# Copy single path image to patches\u001b[39;00m\n\u001b[1;32m     43\u001b[0m reconstructed_image \u001b[38;5;241m=\u001b[39m unpatchify(patches, img\u001b[38;5;241m.\u001b[39mshape)\n",
      "\u001b[0;31mException\u001b[0m: Could not read the image"
     ]
    }
   ],
   "source": [
    "from patchify import patchify\n",
    "import cv2\n",
    "import numpy as np\n",
    "from patchify import patchify, unpatchify\n",
    "import os\n",
    "from numpy import save,load\n",
    "\n",
    "k=0\n",
    "\n",
    "# Allocate spaces for storing the patches\n",
    "#folder_list=[\"train\",\"val\"]\n",
    "#folder_list=[\"VisDrone2019-DET-train\",\"VisDrone2019-DET-val\",\"VisDrone2019-DET-test-dev\"]\n",
    "#folder_list=[\"VisDrone2019-DET-train\"]\n",
    "#folder_list=[\"VisDrone2019-DET-val\"]\n",
    "folder_list=[\"VisDrone2019-DET-test-dev\"]\n",
    "\n",
    "for r in folder_list:        \n",
    "    path_dir=\"/home/wytcor/Desktop/STAGE/YOLOv5_Custom_Training/datasets/VisDrone2019-DET/original_datasets/{}/images/\".format(r)\n",
    "    for img_name in os.listdir(path_dir):\n",
    "        #img = cv2.imread(\"/home/wytcor/Desktop/STAGE/YOLOv5_Custom_Training/datasets/DOTAV15/{}split/images/P2777__1__2472___1511.png\".format(r)) #P2777__1__2472___1511 #P2777__1__2472___1511 #P0003__1__0___0\n",
    "        img = np.zeros((1024,1024,3))#np.zeros_like(img)  # Fill with zeros for the example (start from an empty image).\n",
    "\n",
    "        # Use patchify just for getting the size. shape = (14, 18, 1, 224, 224, 3)\n",
    "        # We could have also used: patches = np.zeros((14, 18, 1, 224, 224, 3), np.uint8)\n",
    "        patches = patchify(img, (512,512,3), step=512)\n",
    "        #print(img_name)\n",
    "        img_name=img_name.split('.')\n",
    "        img_name=img_name[0]\n",
    "        for i in range(patches.shape[0]):\n",
    "            for j in range(patches.shape[1]):\n",
    "                #single_patch_img = cv2.imread('patches/IMAGE_SIZE_512/{}split/images/{}'.format(r,img_name) + '_'+ str(i).zfill(2) + '_' + str(j).zfill(2) + '.png')  # Read a patch image.\n",
    "                \n",
    "                \n",
    "                #img_path='patches/SCALE_FACTOR_2/{}split/generated_images/{}'.format(r,img_name) + '_'+ str(i).zfill(2) + '_' + str(j).zfill(2) + '.png'\n",
    "                img_path='/home/wytcor/Desktop/STAGE/YOLOv5_Custom_Training/datasets/VisDrone2019-DET/SCALE FACTOR {}/{}/generated_images/{}'.format(scale_factor,r,img_name) + '_'+ str(i).zfill(2) + '_' + str(j).zfill(2) + '.png'\n",
    "                #print(img_path)\n",
    "                single_patch_img = cv2.imread(img_path)  # Read a patch image.\n",
    "                #print(single_patch_img)\n",
    "                if single_patch_img is None:\n",
    "                    raise Exception(\"Could not read the image\") \n",
    "                patches[i, j, 0, :, :, :] = single_patch_img.copy()  # Copy single path image to patches\n",
    "\n",
    "        reconstructed_image = unpatchify(patches, img.shape)\n",
    "        k=k+1\n",
    "        print(k)\n",
    "        #reconstructed_image=cv2.cvtColor(reconstructed_image, cv2.COLOR_BGR2RGB)\n",
    "        #print(reconstructed_image.shape)\n",
    "        #plt.imshow(reconstructed_image)\n",
    "        #plt.show()\n",
    "        print(img_name)\n",
    "        cv2.imwrite('/home/wytcor/Desktop/STAGE/YOLOv5_Custom_Training/datasets/VisDrone2019-DET/SCALE FACTOR {}/{}/reconstructed_images/{}.png'.format(scale_factor,r,img_name), np.array(reconstructed_image))"
   ]
  },
  {
   "cell_type": "code",
   "execution_count": null,
   "id": "87389a41",
   "metadata": {},
   "outputs": [],
   "source": []
  }
 ],
 "metadata": {
  "kernelspec": {
   "display_name": "Python 3 (ipykernel)",
   "language": "python",
   "name": "python3"
  },
  "language_info": {
   "codemirror_mode": {
    "name": "ipython",
    "version": 3
   },
   "file_extension": ".py",
   "mimetype": "text/x-python",
   "name": "python",
   "nbconvert_exporter": "python",
   "pygments_lexer": "ipython3",
   "version": "3.8.13"
  }
 },
 "nbformat": 4,
 "nbformat_minor": 5
}
